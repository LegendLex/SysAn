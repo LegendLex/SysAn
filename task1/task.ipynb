{
 "cells": [
  {
   "cell_type": "code",
   "execution_count": 27,
   "id": "49f6d835-7cbe-412d-a11d-b8f1a607c3f4",
   "metadata": {
    "tags": []
   },
   "outputs": [
    {
     "name": "stdout",
     "output_type": "stream",
     "text": [
      "36.5\n"
     ]
    }
   ],
   "source": [
    "!python task1.py D:\\Official\\Study\\SysAn\\example.csv 2 2"
   ]
  },
  {
   "cell_type": "code",
   "execution_count": 39,
   "id": "6fa5418a-cc1d-481f-b3f6-87734531c1f3",
   "metadata": {
    "tags": []
   },
   "outputs": [],
   "source": [
    "!python task2_prepare.py"
   ]
  },
  {
   "cell_type": "code",
   "execution_count": 40,
   "id": "5a4a8e9b-7be4-4646-a021-a005752ef114",
   "metadata": {
    "tags": []
   },
   "outputs": [
    {
     "name": "stdout",
     "output_type": "stream",
     "text": [
      "Node 1:[2]\n",
      "\n",
      "Node 2:[1, 3, 4]\n",
      "\n",
      "Node 3:[2]\n",
      "\n",
      "Node 4:[2, 5, 6]\n",
      "\n",
      "Node 5:[4, 7, 8]\n",
      "\n",
      "Node 6:[4]\n",
      "\n",
      "Node 7:[5]\n",
      "\n",
      "Node 8:[5]\n",
      "\n"
     ]
    }
   ],
   "source": [
    "!python task2.py graph.csv"
   ]
  }
 ],
 "metadata": {
  "kernelspec": {
   "display_name": "Python 3 (ipykernel)",
   "language": "python",
   "name": "python3"
  },
  "language_info": {
   "codemirror_mode": {
    "name": "ipython",
    "version": 3
   },
   "file_extension": ".py",
   "mimetype": "text/x-python",
   "name": "python",
   "nbconvert_exporter": "python",
   "pygments_lexer": "ipython3",
   "version": "3.7.9"
  }
 },
 "nbformat": 4,
 "nbformat_minor": 5
}
